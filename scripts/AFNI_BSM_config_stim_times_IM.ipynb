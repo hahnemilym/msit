{
 "cells": [
  {
   "cell_type": "code",
   "execution_count": 2,
   "metadata": {
    "ExecuteTime": {
     "end_time": "2019-01-29T01:24:39.765312Z",
     "start_time": "2019-01-29T01:24:39.134197Z"
    },
    "collapsed": true
   },
   "outputs": [],
   "source": [
    "import csv\n",
    "from itertools import repeat\n",
    "import pandas as pd\n",
    "from pandas import read_csv, DataFrame, Index, MultiIndex\n",
    "from IPython.display import display\n",
    "import numpy as np\n",
    "import os"
   ]
  },
  {
   "cell_type": "code",
   "execution_count": null,
   "metadata": {
    "ExecuteTime": {
     "end_time": "2019-01-28T23:06:44.251864Z",
     "start_time": "2019-01-28T23:06:44.148568Z"
    },
    "collapsed": true,
    "scrolled": true
   },
   "outputs": [],
   "source": [
    "## Generate 1D timing for all conditions\n",
    "\n",
    "path='/autofs/space/lilli_004/users/DARPA-MSIT/msit/msit/params'\n",
    "\n",
    "with open(os.path.join(path,'msit_I-C.par')) as tsvin, \\\n",
    "open(os.path.join(path,'msit_bsm_stim.csv'),'wb') as csvout:\n",
    "    tsvin = csv.reader(tsvin, delimiter='\\t')\n",
    "    for row in tsvin:\n",
    "        csvout.write(\"%s\\n\" % row[0])"
   ]
  },
  {
   "cell_type": "code",
   "execution_count": 3,
   "metadata": {
    "ExecuteTime": {
     "end_time": "2019-01-29T00:13:46.311316Z",
     "start_time": "2019-01-29T00:13:46.284962Z"
    },
    "collapsed": true
   },
   "outputs": [],
   "source": [
    "## Generate [0 1 0 1 0 ... n] for each condition type\n",
    "\n",
    "path='/autofs/space/lilli_004/users/DARPA-MSIT/msit/msit/params'\n",
    "\n",
    "with open(os.path.join(path,'msit_I-C.par')) as tsvin, \\\n",
    "open(os.path.join(path,'congruent.csv'),'wb') as congruent, \\\n",
    "open(os.path.join(path,'incongruent.csv'),'wb') as incongruent, \\\n",
    "open(os.path.join(path,'combined.csv'),'wb') as combined:\n",
    "    tsvin = csv.reader(tsvin, delimiter='\\t')\n",
    "    for row in tsvin:\n",
    "        if row[1]=='1':\n",
    "            congruent.write(\"%s \" % 1)\n",
    "            incongruent.write(\"%s \" % 0)\n",
    "            combined.write(\"%s \" % 1)\n",
    "        elif row[1]=='2':\n",
    "            congruent.write(\"%s \" % 0)\n",
    "            incongruent.write(\"%s \" % 1)\n",
    "            combined.write(\"%s \" % 1)\n",
    "        else:\n",
    "            congruent.write(\"%s \" % 'NaN')\n",
    "            incongruent.write(\"%s \" % 'NaN')\n",
    "            combined.write(\"%s \" % 'NaN')"
   ]
  },
  {
   "cell_type": "code",
   "execution_count": 2,
   "metadata": {
    "ExecuteTime": {
     "end_time": "2019-01-29T00:07:46.900791Z",
     "start_time": "2019-01-29T00:07:46.880609Z"
    },
    "collapsed": true
   },
   "outputs": [],
   "source": [
    "stim_time=[]\n",
    "duration=[]\n",
    "combined=[]\n",
    "\n",
    "path='/autofs/space/lilli_004/users/DARPA-MSIT/msit/msit/params'\n",
    "\n",
    "with open(os.path.join(path,'msit_bsm_stim.csv')) as tsvin, \\\n",
    "open(os.path.join(path,'combined_durations.csv'),'w') as csvout:\n",
    "    tsvin = csv.reader(tsvin, delimiter='\\t')\n",
    "    for row in tsvin:\n",
    "        stim_time.append(row[0])\n",
    "        \n",
    "    for i in stim_time:\n",
    "        duration.append(float(i)+1.75)\n",
    "    \n",
    "    for d,st in zip(duration,stim_time):\n",
    "        csvout.write(\"%s:%s \" % (st,d))\n",
    "    \n",
    "# data={'Duration':duration,'StimTimes':stim_time,'Stim_Duration':combined}\n",
    "# df=pd.DataFrame(data=data,index=None)\n",
    "# display(df)"
   ]
  },
  {
   "cell_type": "code",
   "execution_count": 11,
   "metadata": {
    "ExecuteTime": {
     "end_time": "2019-01-29T01:31:12.404514Z",
     "start_time": "2019-01-29T01:31:12.387372Z"
    }
   },
   "outputs": [],
   "source": [
    "path='/autofs/space/lilli_004/users/DARPA-MSIT/msit/msit/params'\n",
    "\n",
    "with open(os.path.join(path,'msit_I-C.par')) as tsvin, \\\n",
    "open(os.path.join(path,'congruent_durations.csv'),'w') as congruent, \\\n",
    "open(os.path.join(path,'incongruent_durations.csv'),'w') as incongruent, \\\n",
    "open(os.path.join(path,'combined_durations.csv'),'w') as combined:\n",
    "    tsvin = csv.reader(tsvin, delimiter='\\t')\n",
    "    for row in tsvin:\n",
    "        if row[1]=='2':\n",
    "            incongruent.write('%s:%s ' % (row[0],float(row[0])+1.75))\n",
    "        elif row[1]=='1':\n",
    "            congruent.write('%s:%s ' % (row[0],float(row[0])+1.75))\n",
    "        else:\n",
    "            print \"error in row: %s\" % row"
   ]
  },
  {
   "cell_type": "code",
   "execution_count": null,
   "metadata": {
    "collapsed": true
   },
   "outputs": [],
   "source": []
  }
 ],
 "metadata": {
  "kernelspec": {
   "display_name": "Python 2",
   "language": "python",
   "name": "python2"
  },
  "language_info": {
   "codemirror_mode": {
    "name": "ipython",
    "version": 2
   },
   "file_extension": ".py",
   "mimetype": "text/x-python",
   "name": "python",
   "nbconvert_exporter": "python",
   "pygments_lexer": "ipython2",
   "version": "2.7.13"
  },
  "toc": {
   "colors": {
    "hover_highlight": "#DAA520",
    "navigate_num": "#000000",
    "navigate_text": "#333333",
    "running_highlight": "#FF0000",
    "selected_highlight": "#FFD700",
    "sidebar_border": "#EEEEEE",
    "wrapper_background": "#FFFFFF"
   },
   "moveMenuLeft": true,
   "nav_menu": {
    "height": "12px",
    "width": "252px"
   },
   "navigate_menu": true,
   "number_sections": true,
   "sideBar": true,
   "threshold": 4,
   "toc_cell": false,
   "toc_section_display": "block",
   "toc_window_display": false,
   "widenNotebook": false
  }
 },
 "nbformat": 4,
 "nbformat_minor": 2
}
